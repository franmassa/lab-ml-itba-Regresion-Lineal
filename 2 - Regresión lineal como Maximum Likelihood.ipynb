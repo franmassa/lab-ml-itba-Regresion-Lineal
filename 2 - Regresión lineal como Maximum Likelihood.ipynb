{
 "cells": [
  {
   "cell_type": "markdown",
   "metadata": {},
   "source": [
    "# Regresión Lineal como ML\n",
    "Nuestro modelo es ahora\n",
    "$y=wX+\\epsilon$, donde $\\epsilon \\sim N(0,\\sigma_{\\epsilon})$\n",
    "\n",
    "Recordemos que el likelihood es la probabilidad de tener los datos, dados los parámetros del modelo:\n",
    "\n",
    "$$p(y_1,...,y_N|X_1,...,X_N,w)=\\prod_{i=1}^N{p(y_i|X_i,w)}$$\n",
    "\n",
    "Maximizar el likelihood es lo mismo que maximizar el log likelihood:\n",
    "\n",
    "$$\\log p(y_1,...,y_N|X_1,...,X_N,w)=\\sum_{i=1}^N{\\log p(y_i|X_i,w)}$$\n",
    "\n",
    "Como el ruido es gaussiano (normalmente distribuido) la expresión anterior nos queda:\n",
    "\n",
    "$$\\log p(y_1,...,y_N|X_1,...,X_N,w)=\\sum_{i=1}^N{\\log \\frac{1}{\\sqrt{2 \\pi \\sigma_{\\epsilon}^2}} \\exp(- \\frac{(y_i-wX_i)^2}{2\\sigma_{\\epsilon}^2})}=-\\frac{N}{2}\\log {2 \\pi \\sigma_{\\epsilon}^2} - \\sum_{i=1}^N\\frac{(y_i-wX_i)^2}{2\\sigma_{\\epsilon}^2}$$\n",
    "\n",
    "Por lo tanto:\n",
    "\n",
    "$$ w_{MLE}=argmax \\{- \\sum_{i=1}^N\\frac{(y_i-wX_i)^2}{2\\sigma_{\\epsilon}^2}\\}$$\n",
    "\n",
    "o bien:\n",
    "\n",
    "$$ w_{MLE}=argmin \\{ \\frac{1}{N} \\sum_{i=1}^N\\frac{(y_i-wX_i)^2}{2\\sigma_{\\epsilon}^2}\\}$$\n",
    "\n",
    "$$ w_{MLE}=argmin \\{MSE_{train}\\} $$"
   ]
  }
 ],
 "metadata": {
  "kernelspec": {
   "display_name": "Python (tensorflow-gpu)",
   "language": "python",
   "name": "tensorflow-gpu"
  },
  "language_info": {
   "codemirror_mode": {
    "name": "ipython",
    "version": 3
   },
   "file_extension": ".py",
   "mimetype": "text/x-python",
   "name": "python",
   "nbconvert_exporter": "python",
   "pygments_lexer": "ipython3",
   "version": "3.6.8"
  }
 },
 "nbformat": 4,
 "nbformat_minor": 2
}

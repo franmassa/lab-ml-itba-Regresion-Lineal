{
 "cells": [
  {
   "cell_type": "code",
   "execution_count": 1,
   "metadata": {},
   "outputs": [
    {
     "name": "stderr",
     "output_type": "stream",
     "text": [
      "Using TensorFlow backend.\n"
     ]
    },
    {
     "data": {
      "text/html": [
       "<div>\n",
       "<style scoped>\n",
       "    .dataframe tbody tr th:only-of-type {\n",
       "        vertical-align: middle;\n",
       "    }\n",
       "\n",
       "    .dataframe tbody tr th {\n",
       "        vertical-align: top;\n",
       "    }\n",
       "\n",
       "    .dataframe thead th {\n",
       "        text-align: right;\n",
       "    }\n",
       "</style>\n",
       "<table border=\"1\" class=\"dataframe\">\n",
       "  <thead>\n",
       "    <tr style=\"text-align: right;\">\n",
       "      <th></th>\n",
       "      <th>Unnamed: 0</th>\n",
       "      <th>Genero</th>\n",
       "      <th>Peso</th>\n",
       "      <th>Altura</th>\n",
       "    </tr>\n",
       "  </thead>\n",
       "  <tbody>\n",
       "    <tr>\n",
       "      <th>0</th>\n",
       "      <td>7620</td>\n",
       "      <td>1</td>\n",
       "      <td>61.235</td>\n",
       "      <td>162.402</td>\n",
       "    </tr>\n",
       "    <tr>\n",
       "      <th>1</th>\n",
       "      <td>1837</td>\n",
       "      <td>0</td>\n",
       "      <td>97.432</td>\n",
       "      <td>181.908</td>\n",
       "    </tr>\n",
       "    <tr>\n",
       "      <th>2</th>\n",
       "      <td>3311</td>\n",
       "      <td>0</td>\n",
       "      <td>73.324</td>\n",
       "      <td>172.459</td>\n",
       "    </tr>\n",
       "    <tr>\n",
       "      <th>3</th>\n",
       "      <td>9478</td>\n",
       "      <td>1</td>\n",
       "      <td>55.193</td>\n",
       "      <td>157.748</td>\n",
       "    </tr>\n",
       "    <tr>\n",
       "      <th>4</th>\n",
       "      <td>7805</td>\n",
       "      <td>1</td>\n",
       "      <td>56.886</td>\n",
       "      <td>151.798</td>\n",
       "    </tr>\n",
       "  </tbody>\n",
       "</table>\n",
       "</div>"
      ],
      "text/plain": [
       "   Unnamed: 0  Genero    Peso   Altura\n",
       "0        7620       1  61.235  162.402\n",
       "1        1837       0  97.432  181.908\n",
       "2        3311       0  73.324  172.459\n",
       "3        9478       1  55.193  157.748\n",
       "4        7805       1  56.886  151.798"
      ]
     },
     "execution_count": 1,
     "metadata": {},
     "output_type": "execute_result"
    }
   ],
   "source": [
    "#import os\n",
    "#os.environ[\"DISPLAY\"]=\"localhost:10.0\"\n",
    "%reload_ext autoreload\n",
    "%autoreload 2\n",
    "#%matplotlib qt\n",
    "import pandas as pd\n",
    "import helper\n",
    "from matplotlib import pyplot as plt\n",
    "df = pd.read_csv('alturas-pesos-mils-train.csv')\n",
    "df[\"Genero\"]=(df[\"Genero\"]!=\"Hombre\").astype(int)\n",
    "df.head() #Para visualizar las primeras 5 observaciones\n"
   ]
  },
  {
   "cell_type": "code",
   "execution_count": 2,
   "metadata": {},
   "outputs": [
    {
     "name": "stdout",
     "output_type": "stream",
     "text": [
      "[1 1]\n",
      "[1 1]\n",
      "[[0. 1.]\n",
      " [0. 1.]]\n",
      "0.919589552238806\n",
      "0.9121212121212121\n"
     ]
    },
    {
     "name": "stderr",
     "output_type": "stream",
     "text": [
      "/home/usuario/anaconda3/envs/GNI/lib/python3.6/site-packages/sklearn/linear_model/stochastic_gradient.py:183: FutureWarning: max_iter and tol parameters have been added in SGDClassifier in 0.19. If max_iter is set but tol is left unset, the default value for tol in 0.19 and 0.20 will be None (which is equivalent to -infinity, so it has no effect) but will change in 0.21 to 1e-3. Specify tol to silence this warning.\n",
      "  FutureWarning)\n"
     ]
    },
    {
     "data": {
      "text/plain": [
       "array([[-7311.46266479,  3175.85055327]])"
      ]
     },
     "execution_count": 2,
     "metadata": {},
     "output_type": "execute_result"
    }
   ],
   "source": [
    "from sklearn.linear_model import SGDClassifier\n",
    "from sklearn.model_selection import train_test_split\n",
    "X=df[['Peso','Altura']].values\n",
    "y=df['Genero'].values\n",
    "X_train, X_test, y_train, y_test = train_test_split(X, y, test_size=0.33, random_state=42,shuffle=True)\n",
    "clf = SGDClassifier(loss='log',penalty=None,max_iter=10)\n",
    "clf.fit(X_train, y_train)\n",
    "print(clf.predict(X_train[:2, :]))\n",
    "print(y_train[:2])\n",
    "print(clf.predict_proba(X_train[:2, :]))\n",
    "print(clf.score(X_train, y_train))\n",
    "print(clf.score(X_test, y_test))\n",
    "clf.coef_"
   ]
  },
  {
   "cell_type": "markdown",
   "metadata": {},
   "source": [
    "# Regresión logística en Keras"
   ]
  },
  {
   "cell_type": "code",
   "execution_count": 9,
   "metadata": {},
   "outputs": [],
   "source": [
    "import numpy as np\n",
    "from keras.models import Sequential #Para poder definir un modelo secuencial\n",
    "from keras.layers import Dense, BatchNormalization #Para poder usar capas densas\n",
    "from keras.optimizers import SGD, Adam, rmsprop\n",
    "import matplotlib.animation as animation"
   ]
  },
  {
   "cell_type": "code",
   "execution_count": 23,
   "metadata": {},
   "outputs": [
    {
     "name": "stdout",
     "output_type": "stream",
     "text": [
      "Train on 5360 samples, validate on 2640 samples\n",
      "Epoch 1/10\n",
      "5360/5360 [==============================] - 1s 235us/step - loss: 0.5773 - acc: 0.7931 - val_loss: 0.4808 - val_acc: 0.9030\n",
      "Epoch 2/10\n",
      "5360/5360 [==============================] - 0s 40us/step - loss: 0.4240 - acc: 0.9032 - val_loss: 0.3804 - val_acc: 0.9114\n",
      "Epoch 3/10\n",
      "5360/5360 [==============================] - 0s 39us/step - loss: 0.3527 - acc: 0.9153 - val_loss: 0.3308 - val_acc: 0.9076\n",
      "Epoch 4/10\n",
      "5360/5360 [==============================] - 0s 40us/step - loss: 0.3138 - acc: 0.9103 - val_loss: 0.3005 - val_acc: 0.9080\n",
      "Epoch 5/10\n",
      "5360/5360 [==============================] - 0s 40us/step - loss: 0.2897 - acc: 0.9159 - val_loss: 0.2796 - val_acc: 0.9114\n",
      "Epoch 6/10\n",
      "5360/5360 [==============================] - 0s 40us/step - loss: 0.2715 - acc: 0.9149 - val_loss: 0.2682 - val_acc: 0.9083\n",
      "Epoch 7/10\n",
      "5360/5360 [==============================] - 0s 40us/step - loss: 0.2594 - acc: 0.9147 - val_loss: 0.2563 - val_acc: 0.9114\n",
      "Epoch 8/10\n",
      "5360/5360 [==============================] - 0s 39us/step - loss: 0.2513 - acc: 0.9140 - val_loss: 0.2484 - val_acc: 0.9114\n",
      "Epoch 9/10\n",
      "5360/5360 [==============================] - 0s 40us/step - loss: 0.2441 - acc: 0.9142 - val_loss: 0.2458 - val_acc: 0.9076\n",
      "Epoch 10/10\n",
      "5360/5360 [==============================] - 0s 40us/step - loss: 0.2392 - acc: 0.9157 - val_loss: 0.2410 - val_acc: 0.9083\n"
     ]
    }
   ],
   "source": [
    "optimizer='adam'\n",
    "batch_size=32\n",
    "epochs=10\n",
    "model=Sequential() #Queda definido el modelo sequencial\n",
    "model.add(Dense(1, input_shape=(2,),activation='sigmoid',use_bias=True,kernel_initializer='zeros',bias_initializer='zeros'))\n",
    "model.compile(optimizer=optimizer, loss='binary_crossentropy',metrics=['accuracy'])\n",
    "history=model.fit(X_train, y_train, validation_data=[X_test,y_test],\n",
    "                  epochs=epochs,verbose=1, batch_size=batch_size,shuffle = True)    "
   ]
  },
  {
   "cell_type": "code",
   "execution_count": 24,
   "metadata": {},
   "outputs": [
    {
     "name": "stdout",
     "output_type": "stream",
     "text": [
      "5360/5360 [==============================] - 0s 12us/step\n"
     ]
    },
    {
     "data": {
      "text/plain": [
       "[0.23579102638942093, 0.914179104477612]"
      ]
     },
     "execution_count": 24,
     "metadata": {},
     "output_type": "execute_result"
    }
   ],
   "source": [
    "model.evaluate(X_train,y_train)"
   ]
  },
  {
   "cell_type": "code",
   "execution_count": 25,
   "metadata": {},
   "outputs": [
    {
     "name": "stdout",
     "output_type": "stream",
     "text": [
      "2640/2640 [==============================] - 0s 13us/step\n"
     ]
    },
    {
     "data": {
      "text/plain": [
       "[0.24096018798423535, 0.9083333333333333]"
      ]
     },
     "execution_count": 25,
     "metadata": {},
     "output_type": "execute_result"
    }
   ],
   "source": [
    "model.evaluate(X_test,y_test)"
   ]
  },
  {
   "cell_type": "markdown",
   "metadata": {},
   "source": [
    "# Qué pasa si cambiamos la función de costo por el mse?"
   ]
  },
  {
   "cell_type": "code",
   "execution_count": 27,
   "metadata": {},
   "outputs": [
    {
     "name": "stdout",
     "output_type": "stream",
     "text": [
      "Train on 5360 samples, validate on 2640 samples\n",
      "Epoch 1/10\n",
      "5360/5360 [==============================] - 0s 71us/step - loss: 0.1951 - acc: 0.7979 - val_loss: 0.1529 - val_acc: 0.9114\n",
      "Epoch 2/10\n",
      "5360/5360 [==============================] - 0s 33us/step - loss: 0.1341 - acc: 0.8965 - val_loss: 0.1185 - val_acc: 0.9068\n",
      "Epoch 3/10\n",
      "5360/5360 [==============================] - 0s 33us/step - loss: 0.1088 - acc: 0.9121 - val_loss: 0.1064 - val_acc: 0.8939\n",
      "Epoch 4/10\n",
      "5360/5360 [==============================] - 0s 33us/step - loss: 0.0965 - acc: 0.9121 - val_loss: 0.0917 - val_acc: 0.9114\n",
      "Epoch 5/10\n",
      "5360/5360 [==============================] - 0s 33us/step - loss: 0.0886 - acc: 0.9127 - val_loss: 0.0877 - val_acc: 0.9064\n",
      "Epoch 6/10\n",
      "5360/5360 [==============================] - 0s 32us/step - loss: 0.0837 - acc: 0.9147 - val_loss: 0.0831 - val_acc: 0.9072\n",
      "Epoch 7/10\n",
      "5360/5360 [==============================] - 0s 32us/step - loss: 0.0801 - acc: 0.9149 - val_loss: 0.0795 - val_acc: 0.9114\n",
      "Epoch 8/10\n",
      "5360/5360 [==============================] - 0s 32us/step - loss: 0.0772 - acc: 0.9140 - val_loss: 0.0770 - val_acc: 0.9106\n",
      "Epoch 9/10\n",
      "5360/5360 [==============================] - 0s 32us/step - loss: 0.0754 - acc: 0.9160 - val_loss: 0.0753 - val_acc: 0.9117\n",
      "Epoch 10/10\n",
      "5360/5360 [==============================] - 0s 32us/step - loss: 0.0738 - acc: 0.9155 - val_loss: 0.0749 - val_acc: 0.9080\n"
     ]
    }
   ],
   "source": [
    "model=Sequential() #Queda definido el modelo sequencial\n",
    "model.add(Dense(1, input_shape=(2,),activation='sigmoid',use_bias=True,kernel_initializer='zeros',bias_initializer='zeros'))\n",
    "model.compile(optimizer=optimizer, loss='mse',metrics=['accuracy'])\n",
    "history=model.fit(X_train, y_train, validation_data=[X_test,y_test],\n",
    "                  epochs=epochs,verbose=1, batch_size=batch_size,shuffle = True)    "
   ]
  },
  {
   "cell_type": "code",
   "execution_count": null,
   "metadata": {},
   "outputs": [],
   "source": []
  }
 ],
 "metadata": {
  "kernelspec": {
   "display_name": "Python 3",
   "language": "python",
   "name": "python3"
  },
  "language_info": {
   "codemirror_mode": {
    "name": "ipython",
    "version": 3
   },
   "file_extension": ".py",
   "mimetype": "text/x-python",
   "name": "python",
   "nbconvert_exporter": "python",
   "pygments_lexer": "ipython3",
   "version": "3.6.9"
  }
 },
 "nbformat": 4,
 "nbformat_minor": 4
}

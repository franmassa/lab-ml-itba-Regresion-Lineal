{
 "cells": [
  {
   "cell_type": "markdown",
   "metadata": {},
   "source": [
    "# Regresión Lineal simple\n",
    "\n",
    "Videos:\n",
    "\n",
    "https://www.youtube.com/watch?v=kHwlB_j7Hkc\n",
    "\n",
    "https://www.youtube.com/watch?v=yuH4iRcggMw\n",
    "\n",
    "https://www.youtube.com/watch?v=yR2ipCoFvNo\n",
    "\n",
    "https://www.youtube.com/watch?v=0kns1gXLYg4\n",
    "\n",
    "Mas información en:\n",
    "\n",
    "https://github.com/justmarkham/DAT4/blob/master/notebooks/08_linear_regression.ipynb\n",
    "\n",
    "\n",
    "\n",
    "## Problema\n",
    "\n",
    "Se tienen un conjunto de observaciones ${(x_1^{(1)},y^{(1)}),(x_1^{(2)},y^{(2)}),(x_1^{(3)},y^{(3)}),...,(x_1^{(N)},y^{(N)})}$. Llamaremos a la variable $x_1$ predictor o feature. Llamaremos a la variable y, respuesta o salida (target en inglés).  \n",
    "La idea es construir un modelo que aprenda a **predecir** o **estimar** la respuesta y en función de un predictor $x_1$. A esta predicción o estimación la llamaremos en general $\\hat{y}$.\n",
    "\n",
    "## Modelo\n",
    "\n",
    "La regresión lineal es un método para predecir una respuesta **cuantitativa** usando una variable como referencia, también llamada predictor (o feature en inglés). El modelo propuesto para estimar la y en función del predictor $x_1$ es:\n",
    "\n",
    "$\\hat{y} = \\omega_0 + \\omega_1x_1$\n",
    "\n",
    "¿Qué representa cada término?\n",
    "- $\\hat{y}$ Es la respuesta estimada por el modelo. Si mi modelo funciona perfectamente $\\hat{y} = y$, para todas las observaciones.\n",
    "- $x$ es el predictor (feature) \n",
    "- $\\omega_0$ es el bias del modelo (también llamado intercept en inglés)\n",
    "- $\\omega_1$ es el coeficiente correspondiente a $x_1$\n",
    "\n",
    "<img src=\"08_slope_intercept.png\">  \n",
    "A $\\omega_0$ y $\\omega_1$ se los denomina **parámetros del modelo**. Entrenar o ajustar el modelo (fit) consiste en seleccionar los valores de $\\omega_0$ y $\\omega_1$ que minimizan una función de costo.\n",
    "\n",
    "### Ejemplo 1: Estimación de la ganancia a partir de ítems vendidos\n",
    "\n",
    "Supongamos que existe un emprendimiento que **informa ganancias y cantidad de productos vendidos por mes**. En una primera aproximación, supongamos que las ganancias cumplen perfectamente con la forma:\n",
    "\n",
    "$$y=a.x-b$$\n",
    "Donde:\n",
    "\n",
    "- x: es la cantidad de ítems vendidos\n",
    "- y: es la ganancia del mes\n",
    "- b: es el costo fijo mensual (tiene sentido que sea un valor negativo)\n",
    "- a: es el margen que aporta vender un producto\n",
    "\n",
    "Es decir, mi ganancia mensual es igual a la cantidad de productos que vendí en un mes, multiplicado con el margen que aportó vender cada uno de esos productos, menos el costo fijo mensual. Supongamos que en cada mes, tanto el costo fijo como el margen que aporta vender un producto, no cambian.  \n",
    "En esta situación ideal, sería lógico plantear el siguiente modelo:\n",
    "\n",
    "$$\\hat{y}=\\omega_1x_1+\\omega_0$$\n",
    "\n",
    "Para obtener los valores de $\\omega_0$ y $\\omega_1$ puedo tomar el informe de dos meses distintos y despejar los valores de los **parámetros del modelo**.  \n",
    "Supongamos que los informes de cuatro meses seguidos son:\n",
    "$$ (ganancia, ítems)=[(-1250,100),(16520,1500),(7500,800),(3750,500)] $$  \n",
    "\n",
    "Entonces planteo las ecuaciones:\n",
    "\n",
    "$$ -1250=100.\\omega_1 + \\omega_0 $$\n",
    "$$ 16520=1500.\\omega_1 + \\omega_0 $$\n",
    "\n",
    "De las cuales se despeja que:  \n",
    "\n",
    "$$ \\omega_0=-2500 $$\n",
    "$$ \\omega_1=12.5 $$\n",
    "\n",
    "Por lo tanto:\n",
    "\n",
    "Costo fijo: $b=2500$  \n",
    "Margen por producto: $a=12.5$\n",
    "\n",
    "Con estos valores, puedo armar una función que en base a la cantidad de ítems vendidos me diga cual fue la ganancia para cada mes."
   ]
  },
  {
   "cell_type": "code",
   "execution_count": 1,
   "metadata": {},
   "outputs": [],
   "source": [
    "def ganancia(cantidad):\n",
    "    return cantidad*12.5-2500"
   ]
  },
  {
   "cell_type": "markdown",
   "metadata": {},
   "source": [
    "Podemos chequear la validez del modelo elegido, prediciendo los valores de ganancia para las ventas que no se utilizaron para ajustar los parámetros del modelo:"
   ]
  },
  {
   "cell_type": "code",
   "execution_count": 2,
   "metadata": {},
   "outputs": [
    {
     "name": "stdout",
     "output_type": "stream",
     "text": [
      "La ganancia esperada cuando se venden 800 productos es de 7500.0 pesos\n"
     ]
    }
   ],
   "source": [
    "cantidad=800\n",
    "print(\"La ganancia esperada cuando se venden {} productos es de {} pesos\".format(cantidad,ganancia(cantidad)))"
   ]
  },
  {
   "cell_type": "code",
   "execution_count": 3,
   "metadata": {},
   "outputs": [
    {
     "name": "stdout",
     "output_type": "stream",
     "text": [
      "La ganancia esperada cuando se venden 500 productos es de 3750.0 pesos\n"
     ]
    }
   ],
   "source": [
    "cantidad=500\n",
    "print(\"La ganancia esperada cuando se venden {} productos es de {} pesos\".format(cantidad,ganancia(cantidad)))"
   ]
  },
  {
   "cell_type": "markdown",
   "metadata": {},
   "source": [
    "A lo largo del curso utilizaremos para armar modelos y entrenarlos una herramienta llamada Keras. Si bien dicha herramienta no se justifica para un modelo tan simple, será mas fácil ir utilizándola desde ahora e ir aumentando de a poco la complejidad de los modelos.  \n",
    "Veamos cómo se define el mismo modelo anterior en Keras.\n",
    "Lo primero que vamos a hacer es definir un modelo *secuencial*. Este tipo de modelos está compuesto por capas y la idea es que la salida de una capa es enviada a la entrada de la siguiente. Veamos cómo se define en el código"
   ]
  },
  {
   "cell_type": "code",
   "execution_count": 4,
   "metadata": {},
   "outputs": [
    {
     "name": "stderr",
     "output_type": "stream",
     "text": [
      "Using TensorFlow backend.\n"
     ]
    }
   ],
   "source": [
    "import numpy as np\n",
    "from keras.models import Sequential #Para poder definir un modelo secuencial\n",
    "model=Sequential() #Queda definido el modelo sequencial"
   ]
  },
  {
   "cell_type": "markdown",
   "metadata": {},
   "source": [
    "En este punto contamos con un modelo secuencial vacío. Vamos a definir una capa densa. Veremos mas adelante en detalle las particularidades. Por el momento alcanza con saber que la siguiente línea:  \n",
    "\n",
    "Dense(1, input_shape=(1,))\n",
    "\n",
    "Define una capa densa de una entrada y una salida. Una capa densa de una entrada y una salida, calcula la salida en función de la entrada según:\n",
    "\n",
    "$$out=\\omega_1.in+\\omega_0$$\n",
    "\n",
    "Para agregar esa capa a nuestro modelo secuencial debemos hacerlos con la siguiente línea:"
   ]
  },
  {
   "cell_type": "code",
   "execution_count": 5,
   "metadata": {},
   "outputs": [
    {
     "name": "stdout",
     "output_type": "stream",
     "text": [
      "WARNING:tensorflow:From /home/usuario/anaconda3/envs/GNI/lib/python3.6/site-packages/tensorflow/python/ops/resource_variable_ops.py:435: colocate_with (from tensorflow.python.framework.ops) is deprecated and will be removed in a future version.\n",
      "Instructions for updating:\n",
      "Colocations handled automatically by placer.\n"
     ]
    }
   ],
   "source": [
    "from keras.layers import Dense #Para poder usar capas densas\n",
    "model.add(Dense(1, input_shape=(1,)))"
   ]
  },
  {
   "cell_type": "markdown",
   "metadata": {},
   "source": [
    "Hemos definido la capa densa de una entrada y una salida, que equivale a la función lineal de nuestro modelo. Todavía no hemos definido el valor de los parámetros. Normalmente se inicializan con valores aleatorios. Podemos verificar los valores de los parámetros de una capa con la siguiente línea:"
   ]
  },
  {
   "cell_type": "code",
   "execution_count": 6,
   "metadata": {},
   "outputs": [
    {
     "name": "stdout",
     "output_type": "stream",
     "text": [
      "Los pesos que inicialmente tiene el modelo son: [array([[1.3631052]], dtype=float32), array([0.], dtype=float32)]\n"
     ]
    }
   ],
   "source": [
    "a=model.layers[0].get_weights()\n",
    "print(\"Los pesos que inicialmente tiene el modelo son: {}\".format(a))"
   ]
  },
  {
   "cell_type": "markdown",
   "metadata": {},
   "source": [
    "El primer valor corresponde a $\\omega_1$ y el segundo valor corresponde a $\\omega_0$. Si bien muy raramente estos valores se definen a mano (mas adelante veremos por qué), los podemos definir con las siguientes líneas:"
   ]
  },
  {
   "cell_type": "code",
   "execution_count": 7,
   "metadata": {},
   "outputs": [
    {
     "name": "stdout",
     "output_type": "stream",
     "text": [
      "Los pesos que ahora tiene el modelo son: [array([[12.5]], dtype=float32), array([-2500.], dtype=float32)]\n"
     ]
    }
   ],
   "source": [
    "model.layers[0].set_weights([np.array([[12.5]], dtype=np.float32), np.array([-2500], dtype=np.float32)])\n",
    "a=model.layers[0].get_weights()\n",
    "print(\"Los pesos que ahora tiene el modelo son: {}\".format(a))"
   ]
  },
  {
   "cell_type": "markdown",
   "metadata": {},
   "source": [
    "Por último, supongamos que queremos utilizar nuestro modelo para predecir ganancias para otros valores de cantidad de ítems vendido, lo hacemos con el método:\n",
    "\n",
    "model.predict()\n",
    "\n",
    "de la siguiente forma:"
   ]
  },
  {
   "cell_type": "code",
   "execution_count": 8,
   "metadata": {},
   "outputs": [
    {
     "data": {
      "text/plain": [
       "array([[-1250.],\n",
       "       [16250.],\n",
       "       [ 7500.],\n",
       "       [ 3750.]], dtype=float32)"
      ]
     },
     "execution_count": 8,
     "metadata": {},
     "output_type": "execute_result"
    }
   ],
   "source": [
    "x1=np.array([[100],[1500],[800],[500]]) #Cantidad de items vendidos en un mes\n",
    "model.predict(x1)"
   ]
  },
  {
   "cell_type": "markdown",
   "metadata": {},
   "source": [
    "### Ejemplo 2: Altura de una persona a partir de su peso\n",
    "\n",
    "Supongamos que ahora estamos ante la presencia de datos que no ajustan perfectamente a un modelo como el que vimos antes:"
   ]
  },
  {
   "cell_type": "code",
   "execution_count": 9,
   "metadata": {},
   "outputs": [
    {
     "data": {
      "image/png": "[encoded data removed]",
      "text/plain": [
       "<Figure size 432x288 with 1 Axes>"
      ]
     },
     "metadata": {
      "needs_background": "light"
     },
     "output_type": "display_data"
    }
   ],
   "source": [
    "import matplotlib.pyplot as plt\n",
    "#Veamos cómo da la aproximación buscada, y comparemosla con los datos medidos\n",
    "x=np.arange(0,2000,100)\n",
    "y=12.5*x-2500\n",
    "plt.scatter(x1, 12.5*x1-2500,  color='black', label='observaciones')\n",
    "plt.plot(x, y, color='blue', linewidth=3,label='aproximación')\n",
    "plt.legend(bbox_to_anchor=(1.05, 1), loc=2, borderaxespad=0.)\n",
    "plt.xlabel('Items Vendidos')\n",
    "plt.ylabel('Ganancias reportadas')\n",
    "plt.show()"
   ]
  },
  {
   "cell_type": "markdown",
   "metadata": {},
   "source": [
    "Sino que tenemos datos que se apartan de un comportamiento perfectamente lineal. Esto se correspondería a una situación mas realista ya que, por ejemplo en el caso anterior, el costo fijo mensual no suele ser perfectamente constante, así como el margen de ganancia tampoco. \n",
    "Pongamos un ejemplo donde los datos son claramente ruidosos: Queremos estimar la altura de una persona a partir de su peso."
   ]
  },
  {
   "cell_type": "code",
   "execution_count": 10,
   "metadata": {},
   "outputs": [
    {
     "data": {
      "text/html": [
       "<div>\n",
       "<style scoped>\n",
       "    .dataframe tbody tr th:only-of-type {\n",
       "        vertical-align: middle;\n",
       "    }\n",
       "\n",
       "    .dataframe tbody tr th {\n",
       "        vertical-align: top;\n",
       "    }\n",
       "\n",
       "    .dataframe thead th {\n",
       "        text-align: right;\n",
       "    }\n",
       "</style>\n",
       "<table border=\"1\" class=\"dataframe\">\n",
       "  <thead>\n",
       "    <tr style=\"text-align: right;\">\n",
       "      <th></th>\n",
       "      <th>Sexo</th>\n",
       "      <th>Peso</th>\n",
       "      <th>Altura</th>\n",
       "    </tr>\n",
       "  </thead>\n",
       "  <tbody>\n",
       "    <tr>\n",
       "      <th>0</th>\n",
       "      <td>Hombre</td>\n",
       "      <td>109</td>\n",
       "      <td>187</td>\n",
       "    </tr>\n",
       "    <tr>\n",
       "      <th>1</th>\n",
       "      <td>Hombre</td>\n",
       "      <td>73</td>\n",
       "      <td>174</td>\n",
       "    </tr>\n",
       "    <tr>\n",
       "      <th>2</th>\n",
       "      <td>Hombre</td>\n",
       "      <td>96</td>\n",
       "      <td>188</td>\n",
       "    </tr>\n",
       "    <tr>\n",
       "      <th>3</th>\n",
       "      <td>Hombre</td>\n",
       "      <td>99</td>\n",
       "      <td>182</td>\n",
       "    </tr>\n",
       "    <tr>\n",
       "      <th>4</th>\n",
       "      <td>Hombre</td>\n",
       "      <td>93</td>\n",
       "      <td>177</td>\n",
       "    </tr>\n",
       "  </tbody>\n",
       "</table>\n",
       "</div>"
      ],
      "text/plain": [
       "     Sexo  Peso  Altura\n",
       "0  Hombre   109     187\n",
       "1  Hombre    73     174\n",
       "2  Hombre    96     188\n",
       "3  Hombre    99     182\n",
       "4  Hombre    93     177"
      ]
     },
     "execution_count": 10,
     "metadata": {},
     "output_type": "execute_result"
    }
   ],
   "source": [
    "import pandas as pd\n",
    "df = pd.read_csv('alturas-pesos.csv')\n",
    "df.head() #Para visualizar las primeras 5 observaciones"
   ]
  },
  {
   "cell_type": "code",
   "execution_count": 11,
   "metadata": {},
   "outputs": [
    {
     "data": {
      "text/html": [
       "<div>\n",
       "<style scoped>\n",
       "    .dataframe tbody tr th:only-of-type {\n",
       "        vertical-align: middle;\n",
       "    }\n",
       "\n",
       "    .dataframe tbody tr th {\n",
       "        vertical-align: top;\n",
       "    }\n",
       "\n",
       "    .dataframe thead th {\n",
       "        text-align: right;\n",
       "    }\n",
       "</style>\n",
       "<table border=\"1\" class=\"dataframe\">\n",
       "  <thead>\n",
       "    <tr style=\"text-align: right;\">\n",
       "      <th></th>\n",
       "      <th>Peso</th>\n",
       "      <th>Altura</th>\n",
       "    </tr>\n",
       "  </thead>\n",
       "  <tbody>\n",
       "    <tr>\n",
       "      <th>count</th>\n",
       "      <td>10000.000000</td>\n",
       "      <td>10000.000000</td>\n",
       "    </tr>\n",
       "    <tr>\n",
       "      <th>mean</th>\n",
       "      <td>72.733900</td>\n",
       "      <td>168.073300</td>\n",
       "    </tr>\n",
       "    <tr>\n",
       "      <th>std</th>\n",
       "      <td>14.572204</td>\n",
       "      <td>9.775269</td>\n",
       "    </tr>\n",
       "    <tr>\n",
       "      <th>min</th>\n",
       "      <td>29.000000</td>\n",
       "      <td>137.000000</td>\n",
       "    </tr>\n",
       "    <tr>\n",
       "      <th>25%</th>\n",
       "      <td>61.000000</td>\n",
       "      <td>161.000000</td>\n",
       "    </tr>\n",
       "    <tr>\n",
       "      <th>50%</th>\n",
       "      <td>73.000000</td>\n",
       "      <td>168.000000</td>\n",
       "    </tr>\n",
       "    <tr>\n",
       "      <th>75%</th>\n",
       "      <td>84.000000</td>\n",
       "      <td>175.000000</td>\n",
       "    </tr>\n",
       "    <tr>\n",
       "      <th>max</th>\n",
       "      <td>122.000000</td>\n",
       "      <td>200.000000</td>\n",
       "    </tr>\n",
       "  </tbody>\n",
       "</table>\n",
       "</div>"
      ],
      "text/plain": [
       "               Peso        Altura\n",
       "count  10000.000000  10000.000000\n",
       "mean      72.733900    168.073300\n",
       "std       14.572204      9.775269\n",
       "min       29.000000    137.000000\n",
       "25%       61.000000    161.000000\n",
       "50%       73.000000    168.000000\n",
       "75%       84.000000    175.000000\n",
       "max      122.000000    200.000000"
      ]
     },
     "execution_count": 11,
     "metadata": {},
     "output_type": "execute_result"
    }
   ],
   "source": [
    "df.describe() #Para visualizar algunos valores estadísticos del dataset"
   ]
  },
  {
   "cell_type": "code",
   "execution_count": 12,
   "metadata": {},
   "outputs": [
    {
     "name": "stdout",
     "output_type": "stream",
     "text": [
      "[109  73  96 ...  58  74  51]\n"
     ]
    }
   ],
   "source": [
    "y = df['Altura'].values\n",
    "x1 = df['Peso'].values\n",
    "print(x1) #Imprimo pesos"
   ]
  },
  {
   "cell_type": "code",
   "execution_count": 13,
   "metadata": {},
   "outputs": [
    {
     "name": "stdout",
     "output_type": "stream",
     "text": [
      "[187 174 188 ... 162 175 157]\n"
     ]
    }
   ],
   "source": [
    "print(y) #imprimo alturas"
   ]
  },
  {
   "cell_type": "code",
   "execution_count": 14,
   "metadata": {},
   "outputs": [
    {
     "data": {
      "image/png": "[encoded data removed]",
      "text/plain": [
       "<Figure size 432x288 with 1 Axes>"
      ]
     },
     "metadata": {
      "needs_background": "light"
     },
     "output_type": "display_data"
    }
   ],
   "source": [
    "plt.scatter(x1, y,  color='black', label='observaciones')\n",
    "plt.legend(bbox_to_anchor=(1.05, 1), loc=2, borderaxespad=0.)\n",
    "plt.xlabel('Peso')\n",
    "plt.ylabel('Altura')\n",
    "plt.show()"
   ]
  },
  {
   "cell_type": "markdown",
   "metadata": {},
   "source": [
    "En este caso será imposible determinar un modelo lineal que ajuste perfectamente a todas las observaciones. Por ello tenemos que definir algún criterio para ajustar los parámetros. Ese criterio estará dado en forma de una función de costo."
   ]
  },
  {
   "cell_type": "markdown",
   "metadata": {},
   "source": [
    "## Función de costo\n",
    "\n",
    "La función de costo debe ser una medida de qué tan bien el modelo ajusta en base a $x_1$ los valores de $y$, es decir, cuán bien se aproximan los valores de $\\hat{y}$ a los valores de $y$.\n",
    "Una función que nos puede servir para medir qué tan bien el modelo se ajusta a los datos es ir sumando para cada observación $i$, la diferencia entre la predicción $\\hat{y}$ y la respuesta esperada $y$. Tómese unos segundos para convencerse de que esta medida es una medida lógica. Ayúdese con el siguiente gráfico:  \n",
    "\n",
    "<img src=\"08_estimating_coefficients.png\">\n",
    "\n",
    "Debate:\n",
    "\n",
    "- ¿Se podría reemplazar $(\\hat{y}_i - y_{i})^{2}$ por $|\\hat{y}_i - y_{i}|$?\n",
    "\n",
    "A esta función de costo se la conoce como Residual Sum of Squares ($SS_{Residual}$). Como en general en Machine Learning trabajamos con un número muy grande de observaciones, nos conviene normalizarla por el número de observaciones, para que este valor no crezca mucho:  \n",
    "\n",
    "$$ MSE=\\frac{1}{N} \\sum_{i=1}^{N}{(\\hat{y}-y)^{2}} $$\n",
    "\n",
    "A esta medida del error de las predicciones con respecto a la respuesta deseada se la llama Mean Square Error, o Error Cuadrático Medio.\n",
    "\n",
    "**El objetivo es encontrar los parámetros del modelo que minimizan la función de costo**\n",
    "\n",
    "Dichos parámetros nos darán el modelo que mejor aproxima a estas observaciones. Existen distintas herramientas para encontrar los parámetros del modelo. A estas herramientas se las denomina **optimizadores**. Por el momento haremos uso de ellos sin entrar en detalle. Pero junto con la definición de la función de costo, siempre debemos definir un optimizador que nos permita hallar los parámetros que la minimizan.\n",
    "\n",
    "### Ejemplo 2b: Altura de una persona a partir de su peso\n",
    "\n",
    "Veamos cómo implementar el problema de pesos y alturas en Python. Para este caso, se pone mucho mas interesante la implementación en Keras, ya que Keras me permite definir además del modelo una función de costo asociada y su optimizador."
   ]
  },
  {
   "cell_type": "code",
   "execution_count": 15,
   "metadata": {},
   "outputs": [],
   "source": [
    "import numpy as np\n",
    "from keras.models import Sequential #Para poder definir un modelo secuencial\n",
    "from keras.layers import Dense #Para poder usar capas densas\n",
    "from keras.optimizers import SGD, Adam\n",
    "model=Sequential() #Queda definido el modelo sequencial\n",
    "model.add(Dense(1, input_shape=(1,)))\n",
    "model.compile(optimizer=Adam(lr=0.1), loss='mse') #defino el MSE como función de costo y sgd como optimizador"
   ]
  },
  {
   "cell_type": "markdown",
   "metadata": {},
   "source": [
    "Podemos ver cómo queda el modelo utilizando el método *summary*."
   ]
  },
  {
   "cell_type": "code",
   "execution_count": 16,
   "metadata": {},
   "outputs": [
    {
     "name": "stdout",
     "output_type": "stream",
     "text": [
      "Model: \"sequential_2\"\n",
      "_________________________________________________________________\n",
      "Layer (type)                 Output Shape              Param #   \n",
      "=================================================================\n",
      "dense_2 (Dense)              (None, 1)                 2         \n",
      "=================================================================\n",
      "Total params: 2\n",
      "Trainable params: 2\n",
      "Non-trainable params: 0\n",
      "_________________________________________________________________\n"
     ]
    }
   ],
   "source": [
    "model.summary()"
   ]
  },
  {
   "cell_type": "markdown",
   "metadata": {},
   "source": [
    "Ahora pasemosle al modelo las observaciones para que ajuste los parámetros de forma tal que minimicen la función de costo. Esto se hace utilizando el método fit."
   ]
  },
  {
   "cell_type": "code",
   "execution_count": 17,
   "metadata": {},
   "outputs": [
    {
     "name": "stdout",
     "output_type": "stream",
     "text": [
      "WARNING:tensorflow:From /home/usuario/anaconda3/envs/GNI/lib/python3.6/site-packages/tensorflow/python/ops/math_ops.py:3066: to_int32 (from tensorflow.python.ops.math_ops) is deprecated and will be removed in a future version.\n",
      "Instructions for updating:\n",
      "Use tf.cast instead.\n",
      "Train on 8000 samples, validate on 2000 samples\n",
      "Epoch 1/100\n",
      "8000/8000 [==============================] - 0s 18us/step - loss: 1280.7054 - val_loss: 567.4368\n",
      "Epoch 2/100\n",
      "8000/8000 [==============================] - 0s 13us/step - loss: 561.3713 - val_loss: 544.3758\n",
      "Epoch 3/100\n",
      "8000/8000 [==============================] - 0s 12us/step - loss: 535.5628 - val_loss: 514.6898\n",
      "Epoch 4/100\n",
      "8000/8000 [==============================] - 0s 12us/step - loss: 504.0901 - val_loss: 481.8663\n",
      "Epoch 5/100\n",
      "8000/8000 [==============================] - 0s 12us/step - loss: 470.4342 - val_loss: 447.4845\n",
      "Epoch 6/100\n",
      "8000/8000 [==============================] - 0s 12us/step - loss: 435.0421 - val_loss: 424.5245\n",
      "Epoch 7/100\n",
      "8000/8000 [==============================] - 0s 12us/step - loss: 396.9297 - val_loss: 372.8946\n",
      "Epoch 8/100\n",
      "8000/8000 [==============================] - 0s 12us/step - loss: 360.9525 - val_loss: 339.1646\n",
      "Epoch 9/100\n",
      "8000/8000 [==============================] - 0s 12us/step - loss: 325.9351 - val_loss: 303.3068\n",
      "Epoch 10/100\n",
      "8000/8000 [==============================] - 0s 12us/step - loss: 292.9700 - val_loss: 272.4859\n",
      "Epoch 11/100\n",
      "8000/8000 [==============================] - 0s 13us/step - loss: 260.9076 - val_loss: 241.4645\n",
      "Epoch 12/100\n",
      "8000/8000 [==============================] - 0s 12us/step - loss: 231.2558 - val_loss: 211.8788\n",
      "Epoch 13/100\n",
      "8000/8000 [==============================] - 0s 12us/step - loss: 201.4313 - val_loss: 185.6399\n",
      "Epoch 14/100\n",
      "8000/8000 [==============================] - 0s 12us/step - loss: 176.6222 - val_loss: 160.8551\n",
      "Epoch 15/100\n",
      "8000/8000 [==============================] - 0s 12us/step - loss: 152.3510 - val_loss: 141.5682\n",
      "Epoch 16/100\n",
      "8000/8000 [==============================] - 0s 12us/step - loss: 131.5162 - val_loss: 119.9941\n",
      "Epoch 17/100\n",
      "8000/8000 [==============================] - 0s 12us/step - loss: 113.6336 - val_loss: 107.4053\n",
      "Epoch 18/100\n",
      "8000/8000 [==============================] - 0s 12us/step - loss: 96.4287 - val_loss: 91.8994\n",
      "Epoch 19/100\n",
      "8000/8000 [==============================] - 0s 12us/step - loss: 81.4578 - val_loss: 73.6868\n",
      "Epoch 20/100\n",
      "8000/8000 [==============================] - 0s 12us/step - loss: 69.5858 - val_loss: 61.8098\n",
      "Epoch 21/100\n",
      "8000/8000 [==============================] - 0s 12us/step - loss: 58.8158 - val_loss: 52.3565\n",
      "Epoch 22/100\n",
      "8000/8000 [==============================] - 0s 12us/step - loss: 49.0058 - val_loss: 44.1151\n",
      "Epoch 23/100\n",
      "8000/8000 [==============================] - 0s 12us/step - loss: 41.6876 - val_loss: 37.1945\n",
      "Epoch 24/100\n",
      "8000/8000 [==============================] - 0s 12us/step - loss: 36.2513 - val_loss: 31.6706\n",
      "Epoch 25/100\n",
      "8000/8000 [==============================] - 0s 12us/step - loss: 30.3956 - val_loss: 27.4663\n",
      "Epoch 26/100\n",
      "8000/8000 [==============================] - 0s 12us/step - loss: 27.0548 - val_loss: 24.9328\n",
      "Epoch 27/100\n",
      "8000/8000 [==============================] - 0s 12us/step - loss: 23.5017 - val_loss: 22.4254\n",
      "Epoch 28/100\n",
      "8000/8000 [==============================] - 0s 12us/step - loss: 20.9767 - val_loss: 23.3257\n",
      "Epoch 29/100\n",
      "8000/8000 [==============================] - 0s 12us/step - loss: 19.1057 - val_loss: 17.6872\n",
      "Epoch 30/100\n",
      "8000/8000 [==============================] - 0s 12us/step - loss: 17.7088 - val_loss: 16.6168\n",
      "Epoch 31/100\n",
      "8000/8000 [==============================] - 0s 12us/step - loss: 16.4595 - val_loss: 16.2704\n",
      "Epoch 32/100\n",
      "8000/8000 [==============================] - 0s 12us/step - loss: 15.7127 - val_loss: 15.4274\n",
      "Epoch 33/100\n",
      "8000/8000 [==============================] - 0s 12us/step - loss: 15.4392 - val_loss: 14.6038\n",
      "Epoch 34/100\n",
      "8000/8000 [==============================] - 0s 12us/step - loss: 14.9497 - val_loss: 14.5418\n",
      "Epoch 35/100\n",
      "8000/8000 [==============================] - 0s 12us/step - loss: 14.8023 - val_loss: 14.8779\n",
      "Epoch 36/100\n",
      "8000/8000 [==============================] - 0s 12us/step - loss: 14.9785 - val_loss: 14.6543\n",
      "Epoch 37/100\n",
      "8000/8000 [==============================] - 0s 12us/step - loss: 14.8467 - val_loss: 14.0888\n",
      "Epoch 38/100\n",
      "8000/8000 [==============================] - 0s 12us/step - loss: 14.6371 - val_loss: 14.1220\n",
      "Epoch 39/100\n",
      "8000/8000 [==============================] - 0s 12us/step - loss: 14.4278 - val_loss: 14.2275\n",
      "Epoch 40/100\n",
      "8000/8000 [==============================] - 0s 12us/step - loss: 14.6278 - val_loss: 13.8502\n",
      "Epoch 41/100\n",
      "8000/8000 [==============================] - 0s 12us/step - loss: 15.0980 - val_loss: 14.9129\n",
      "Epoch 42/100\n",
      "8000/8000 [==============================] - 0s 12us/step - loss: 15.1441 - val_loss: 14.0353\n",
      "Epoch 43/100\n",
      "8000/8000 [==============================] - 0s 12us/step - loss: 14.5841 - val_loss: 13.8141\n",
      "Epoch 44/100\n",
      "8000/8000 [==============================] - 0s 12us/step - loss: 14.7260 - val_loss: 14.5465\n",
      "Epoch 45/100\n",
      "8000/8000 [==============================] - 0s 12us/step - loss: 14.7705 - val_loss: 14.0163\n",
      "Epoch 46/100\n",
      "8000/8000 [==============================] - 0s 12us/step - loss: 14.8614 - val_loss: 13.9347\n",
      "Epoch 47/100\n",
      "8000/8000 [==============================] - 0s 12us/step - loss: 15.6644 - val_loss: 19.4422\n",
      "Epoch 48/100\n",
      "8000/8000 [==============================] - 0s 12us/step - loss: 14.9074 - val_loss: 15.4990\n",
      "Epoch 49/100\n",
      "8000/8000 [==============================] - 0s 12us/step - loss: 15.1132 - val_loss: 13.8475\n",
      "Epoch 50/100\n",
      "8000/8000 [==============================] - 0s 12us/step - loss: 15.1065 - val_loss: 13.9906\n",
      "Epoch 51/100\n",
      "8000/8000 [==============================] - 0s 12us/step - loss: 15.1600 - val_loss: 15.2443\n",
      "Epoch 52/100\n",
      "8000/8000 [==============================] - 0s 12us/step - loss: 14.6454 - val_loss: 13.7855\n",
      "Epoch 53/100\n",
      "8000/8000 [==============================] - 0s 12us/step - loss: 14.4924 - val_loss: 13.8183\n",
      "Epoch 54/100\n",
      "8000/8000 [==============================] - 0s 12us/step - loss: 15.5185 - val_loss: 16.8173\n",
      "Epoch 55/100\n",
      "8000/8000 [==============================] - 0s 12us/step - loss: 15.1804 - val_loss: 14.2852\n",
      "Epoch 56/100\n",
      "8000/8000 [==============================] - 0s 12us/step - loss: 14.6631 - val_loss: 14.4588\n",
      "Epoch 57/100\n",
      "8000/8000 [==============================] - 0s 12us/step - loss: 14.5938 - val_loss: 13.8187\n",
      "Epoch 58/100\n",
      "8000/8000 [==============================] - 0s 13us/step - loss: 14.8230 - val_loss: 16.2215\n",
      "Epoch 59/100\n",
      "8000/8000 [==============================] - 0s 13us/step - loss: 14.6164 - val_loss: 14.2555\n",
      "Epoch 60/100\n",
      "8000/8000 [==============================] - 0s 12us/step - loss: 15.2405 - val_loss: 15.0490\n",
      "Epoch 61/100\n",
      "8000/8000 [==============================] - 0s 12us/step - loss: 15.0462 - val_loss: 13.8400\n",
      "Epoch 62/100\n",
      "8000/8000 [==============================] - 0s 12us/step - loss: 14.3848 - val_loss: 14.3096\n",
      "Epoch 63/100\n",
      "8000/8000 [==============================] - 0s 12us/step - loss: 15.2191 - val_loss: 19.8687\n",
      "Epoch 64/100\n",
      "8000/8000 [==============================] - 0s 12us/step - loss: 14.8759 - val_loss: 15.6590\n",
      "Epoch 65/100\n",
      "8000/8000 [==============================] - 0s 12us/step - loss: 14.9304 - val_loss: 13.8308\n",
      "Epoch 66/100\n",
      "8000/8000 [==============================] - 0s 12us/step - loss: 14.9000 - val_loss: 15.4853\n",
      "Epoch 67/100\n",
      "8000/8000 [==============================] - 0s 12us/step - loss: 15.1768 - val_loss: 14.3478\n",
      "Epoch 68/100\n",
      "8000/8000 [==============================] - 0s 12us/step - loss: 14.6589 - val_loss: 17.5708\n",
      "Epoch 69/100\n",
      "8000/8000 [==============================] - 0s 12us/step - loss: 14.6817 - val_loss: 13.9494\n",
      "Epoch 70/100\n",
      "8000/8000 [==============================] - 0s 12us/step - loss: 14.6650 - val_loss: 15.6966\n",
      "Epoch 71/100\n",
      "8000/8000 [==============================] - 0s 12us/step - loss: 15.4983 - val_loss: 14.8999\n",
      "Epoch 72/100\n",
      "8000/8000 [==============================] - 0s 12us/step - loss: 15.3620 - val_loss: 13.7834\n",
      "Epoch 73/100\n",
      "8000/8000 [==============================] - 0s 13us/step - loss: 15.3343 - val_loss: 15.5762\n",
      "Epoch 74/100\n",
      "8000/8000 [==============================] - 0s 12us/step - loss: 14.6121 - val_loss: 14.0686\n",
      "Epoch 75/100\n",
      "8000/8000 [==============================] - 0s 12us/step - loss: 14.5470 - val_loss: 14.4906\n",
      "Epoch 76/100\n",
      "8000/8000 [==============================] - 0s 12us/step - loss: 14.9808 - val_loss: 13.9010\n",
      "Epoch 77/100\n",
      "8000/8000 [==============================] - 0s 13us/step - loss: 15.0998 - val_loss: 14.5010\n",
      "Epoch 78/100\n",
      "8000/8000 [==============================] - 0s 12us/step - loss: 15.6135 - val_loss: 14.1204\n",
      "Epoch 79/100\n",
      "8000/8000 [==============================] - 0s 12us/step - loss: 15.0704 - val_loss: 13.7877\n",
      "Epoch 80/100\n",
      "8000/8000 [==============================] - 0s 12us/step - loss: 14.8039 - val_loss: 13.8098\n",
      "Epoch 81/100\n",
      "8000/8000 [==============================] - 0s 12us/step - loss: 14.5603 - val_loss: 14.1220\n",
      "Epoch 82/100\n",
      "8000/8000 [==============================] - 0s 12us/step - loss: 15.0379 - val_loss: 16.1325\n",
      "Epoch 83/100\n",
      "8000/8000 [==============================] - 0s 13us/step - loss: 15.1430 - val_loss: 13.7933\n",
      "Epoch 84/100\n",
      "8000/8000 [==============================] - 0s 13us/step - loss: 15.3374 - val_loss: 15.4314\n",
      "Epoch 85/100\n",
      "8000/8000 [==============================] - 0s 12us/step - loss: 15.0224 - val_loss: 14.6425\n",
      "Epoch 86/100\n",
      "8000/8000 [==============================] - 0s 12us/step - loss: 14.9966 - val_loss: 13.8540\n",
      "Epoch 87/100\n",
      "8000/8000 [==============================] - 0s 12us/step - loss: 14.6951 - val_loss: 15.9207\n",
      "Epoch 88/100\n",
      "8000/8000 [==============================] - 0s 12us/step - loss: 14.8152 - val_loss: 14.1447\n",
      "Epoch 89/100\n",
      "8000/8000 [==============================] - 0s 12us/step - loss: 14.8812 - val_loss: 21.1090\n",
      "Epoch 90/100\n",
      "8000/8000 [==============================] - 0s 11us/step - loss: 15.4961 - val_loss: 13.7869\n",
      "Epoch 91/100\n",
      "8000/8000 [==============================] - 0s 12us/step - loss: 14.8842 - val_loss: 13.9540\n",
      "Epoch 92/100\n",
      "8000/8000 [==============================] - 0s 12us/step - loss: 14.7445 - val_loss: 13.8626\n",
      "Epoch 93/100\n",
      "8000/8000 [==============================] - 0s 12us/step - loss: 14.7410 - val_loss: 18.2525\n",
      "Epoch 94/100\n",
      "8000/8000 [==============================] - 0s 12us/step - loss: 14.7353 - val_loss: 14.4215\n",
      "Epoch 95/100\n",
      "8000/8000 [==============================] - 0s 12us/step - loss: 14.6555 - val_loss: 13.8904\n",
      "Epoch 96/100\n",
      "8000/8000 [==============================] - 0s 12us/step - loss: 15.1435 - val_loss: 16.8650\n",
      "Epoch 97/100\n",
      "8000/8000 [==============================] - 0s 13us/step - loss: 15.2791 - val_loss: 16.3101\n",
      "Epoch 98/100\n",
      "8000/8000 [==============================] - 0s 12us/step - loss: 14.9221 - val_loss: 18.3788\n",
      "Epoch 99/100\n",
      "8000/8000 [==============================] - 0s 12us/step - loss: 14.8356 - val_loss: 13.7874\n",
      "Epoch 100/100\n",
      "8000/8000 [==============================] - 0s 13us/step - loss: 14.5978 - val_loss: 14.1537\n"
     ]
    }
   ],
   "source": [
    "import random\n",
    "index=np.arange(10000)\n",
    "np.random.shuffle(index)\n",
    "x1_train=x1[index[:8000]]\n",
    "y_train=y[index[:8000]]\n",
    "x1_test=x1[index[8000:]]\n",
    "y_test=y[index[8000:]]\n",
    "\n",
    "# Train the model, iterating on the data in batches of 256 samples\n",
    "history=model.fit(x1_train, y_train, validation_data=[x1_test,y_test],epochs=100,verbose=1, batch_size=64,shuffle = True) "
   ]
  },
  {
   "cell_type": "code",
   "execution_count": 18,
   "metadata": {},
   "outputs": [
    {
     "data": {
      "text/plain": [
       "[array([[0.61273324]], dtype=float32), array([122.9497], dtype=float32)]"
      ]
     },
     "execution_count": 18,
     "metadata": {},
     "output_type": "execute_result"
    }
   ],
   "source": [
    "model.layers[0].get_weights()"
   ]
  },
  {
   "cell_type": "code",
   "execution_count": 19,
   "metadata": {},
   "outputs": [
    {
     "data": {
      "image/png": "[encoded data removed]",
      "text/plain": [
       "<Figure size 432x288 with 1 Axes>"
      ]
     },
     "metadata": {
      "needs_background": "light"
     },
     "output_type": "display_data"
    }
   ],
   "source": [
    "import matplotlib.pyplot as plt\n",
    "# summarize history for loss\n",
    "plt.plot(history.history['loss'])\n",
    "plt.plot(history.history['val_loss'])\n",
    "plt.title('model loss')\n",
    "plt.ylabel('loss')\n",
    "plt.xlabel('epoch')\n",
    "plt.legend(['train', 'test'], loc='upper right')\n",
    "plt.show()"
   ]
  },
  {
   "cell_type": "code",
   "execution_count": 20,
   "metadata": {},
   "outputs": [
    {
     "data": {
      "image/png": "[encoded data removed]",
      "text/plain": [
       "<Figure size 432x288 with 1 Axes>"
      ]
     },
     "metadata": {
      "needs_background": "light"
     },
     "output_type": "display_data"
    }
   ],
   "source": [
    "# summarize history for loss\n",
    "plt.plot(history.history['loss'][20:])\n",
    "plt.plot(history.history['val_loss'][20:])\n",
    "plt.title('model loss')\n",
    "plt.ylabel('loss')\n",
    "plt.xlabel('epoch')\n",
    "plt.legend(['train', 'test'], loc='upper right')\n",
    "plt.show()"
   ]
  },
  {
   "cell_type": "code",
   "execution_count": 21,
   "metadata": {},
   "outputs": [
    {
     "data": {
      "image/png": "[encoded data removed]",
      "text/plain": [
       "<Figure size 432x288 with 1 Axes>"
      ]
     },
     "metadata": {
      "needs_background": "light"
     },
     "output_type": "display_data"
    }
   ],
   "source": [
    "plt.scatter(x1, y,  color='black', label='observaciones')\n",
    "plt.plot(x1, model.predict(x1), color='blue', linewidth=3,label='aproximación')\n",
    "plt.legend(bbox_to_anchor=(1.05, 1), loc=2, borderaxespad=0.)\n",
    "plt.xlabel('Peso')\n",
    "plt.ylabel('Altura')\n",
    "plt.show()"
   ]
  },
  {
   "cell_type": "markdown",
   "metadata": {},
   "source": [
    "## Optimizadores\n",
    "\n",
    "Para entender qué es lo que hacen los optimizadores se recomienda ver la notebook de [optimizadores](optimizadores1.ipynb)"
   ]
  },
  {
   "cell_type": "markdown",
   "metadata": {},
   "source": [
    "## Discusión\n",
    "\n",
    "¿Cómo se podría incorporar la información del sexo, para estimar la altura?"
   ]
  },
  {
   "cell_type": "code",
   "execution_count": null,
   "metadata": {},
   "outputs": [],
   "source": []
  }
 ],
 "metadata": {
  "kernelspec": {
   "display_name": "Python 3",
   "language": "python",
   "name": "python3"
  },
  "language_info": {
   "codemirror_mode": {
    "name": "ipython",
    "version": 3
   },
   "file_extension": ".py",
   "mimetype": "text/x-python",
   "name": "python",
   "nbconvert_exporter": "python",
   "pygments_lexer": "ipython3",
   "version": "3.6.9"
  }
 },
 "nbformat": 4,
 "nbformat_minor": 4
}
